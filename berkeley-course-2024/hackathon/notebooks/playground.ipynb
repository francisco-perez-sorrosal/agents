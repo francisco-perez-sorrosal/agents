{
 "cells": [
  {
   "cell_type": "code",
   "execution_count": 1,
   "metadata": {},
   "outputs": [
    {
     "data": {
      "text/plain": [
       "'{\"name\": \"John Doe\", \"message\": \"Hello, \\\\\"world\\\\\"!\\\\nHow\\'s it going?\"}'"
      ]
     },
     "execution_count": 1,
     "metadata": {},
     "output_type": "execute_result"
    }
   ],
   "source": [
    "import json\n",
    "\n",
    "data = {\n",
    "    \"name\": \"John Doe\",\n",
    "    \"message\": \"Hello, \\\"world\\\"!\\nHow's it going?\"\n",
    "}\n",
    "\n",
    "# Escaping the JSON data using json.dumps\n",
    "json.dumps(data)"
   ]
  },
  {
   "cell_type": "markdown",
   "metadata": {},
   "source": [
    "# Exploring similarity"
   ]
  },
  {
   "cell_type": "code",
   "execution_count": 3,
   "metadata": {},
   "outputs": [
    {
     "name": "stderr",
     "output_type": "stream",
     "text": [
      "2024-10-27 22:57:02 R2GWRJJGF9 root[55402] INFO Logger root configured\n"
     ]
    },
    {
     "name": "stdout",
     "output_type": "stream",
     "text": [
      "Trying to configure logger root in module llm_foundation\n",
      "root # of associated handlers - 0\n",
      "Logging is not configured yet. Configuring it now.\n",
      "Basic logging config\n"
     ]
    }
   ],
   "source": [
    "import faiss\n",
    "\n",
    "from typing import List, Optional\n",
    "\n",
    "from langchain_openai import ChatOpenAI\n",
    "from langchain_openai import OpenAIEmbeddings\n",
    "\n",
    "import numpy as np\n",
    "import pickle\n",
    "\n",
    "\n",
    "from llm_foundation import logger\n",
    "\n",
    "\n",
    "\n",
    "document_name: str = \"2405.14831v1.pdf\"\n",
    "\n",
    "# Embeddings and FAISS index params\n",
    "emb_dimension = 256\n",
    "M = 32\n",
    "\n",
    "# M_max defines the maximum number of links a vertex can have, and M_max0, which defines the same but for vertices in layer 0.\n",
    "M = 64  # for HNSW index, the number of neighbors we add to each vertex on insertion. \n",
    "# Faiss sets M_max and M_max0 automatically in the set_default_probas method, at index initialization. \n",
    "# The M_max value is set to M, and M_max0 set to M*2"
   ]
  },
  {
   "cell_type": "code",
   "execution_count": 29,
   "metadata": {},
   "outputs": [
    {
     "name": "stdout",
     "output_type": "stream",
     "text": [
      "{'bernal jiménez gutiérrez': 0, 'shu.251@osu.edu': 1, 'myasu@cs.stanford.edu': 2, 'mammalian': 3, 'rag': 4, 'michihiro yasunaga': 5, 'hippocampal indexing': 6, 'su.809@osu.edu': 7, 'stanford university': 8, 'mammalian brains': 9, 'retrieval-augmented generation': 10, 'hipporag': 11, 'the ohio state university': 12, 'gu.826@osu.edu': 13, 'yu gu': 14, 'yiheng shu': 15, 'jimenezgutierrez.1@osu.edu': 16, 'yu su': 17}\n"
     ]
    }
   ],
   "source": [
    "named_entities_dict = pickle.loads(open(f\"{document_name.rsplit(\".\", 1)[0]}_entity2uid_dict.pkl\", \"rb\").read())\n",
    "print(named_entities_dict)\n",
    "entities = list(named_entities_dict.keys())\n"
   ]
  },
  {
   "cell_type": "code",
   "execution_count": 30,
   "metadata": {},
   "outputs": [
    {
     "data": {
      "text/plain": [
       "'bernal jiménez gutiérrez'"
      ]
     },
     "execution_count": 30,
     "metadata": {},
     "output_type": "execute_result"
    }
   ],
   "source": [
    "entities[0]"
   ]
  },
  {
   "cell_type": "code",
   "execution_count": null,
   "metadata": {},
   "outputs": [],
   "source": [
    "\n",
    "logger.info(f\"Entities: {entities}\")\n",
    "logger.info(f\"{len(entities)} entities loaded in the document\")\n",
    "\n",
    "def generate_entity_embeddings(entities: list, emb_dimension: int = 256, emb_save_path: Optional[str] = None):\n",
    "    openai_embeddings = OpenAIEmbeddings(model=\"text-embedding-3-small\", dimensions=emb_dimension)\n",
    "    entities_embeddings = openai_embeddings.embed_documents(entities)  # Embeddings are a list of list of floats\n",
    "    logger.debug(f\"Entities embeddings: {entities_embeddings}\")\n",
    "    \n",
    "    if emb_save_path:\n",
    "        with open(emb_save_path, \"wb\") as f:\n",
    "            pickle.dump(entities_embeddings, f)\n",
    "    \n",
    "    return entities_embeddings\n",
    "\n"
   ]
  },
  {
   "cell_type": "code",
   "execution_count": null,
   "metadata": {},
   "outputs": [],
   "source": [
    "\n",
    "# Generate entity embeddings\n",
    "embeddings_saving_path = f\"{document_name.rsplit('.', 1)[0]}_entity_embeddings.pkl\"\n",
    "entities_embeddings = generate_entity_embeddings(entities, emb_dimension, embeddings_saving_path)\n"
   ]
  },
  {
   "cell_type": "markdown",
   "metadata": {},
   "source": [
    "# Retrieve Document Embeddings"
   ]
  },
  {
   "cell_type": "code",
   "execution_count": 19,
   "metadata": {},
   "outputs": [],
   "source": [
    "entities_embeddings = pickle.loads(open(f\"{document_name.rsplit('.', 1)[0]}_entity_embeddings.pkl\", \"rb\").read())\n",
    "# entities_embeddings"
   ]
  },
  {
   "cell_type": "code",
   "execution_count": 55,
   "metadata": {},
   "outputs": [
    {
     "name": "stderr",
     "output_type": "stream",
     "text": [
      "2024-10-27 18:41:22 R2GWRJJGF9 root[41795] INFO \n",
      "Distances:\n",
      "[[0.    0.795 0.823]\n",
      " [0.    0.995 1.198]\n",
      " [0.    0.985 1.062]\n",
      " [0.    0.799 0.927]\n",
      " [0.    1.254 1.278]\n",
      " [0.    1.063 1.199]\n",
      " [0.    0.95  1.424]\n",
      " [0.    0.337 0.477]\n",
      " [0.    0.995 1.118]\n",
      " [0.    0.337 0.467]\n",
      " [0.    0.626 1.198]\n",
      " [0.    0.467 0.477]\n",
      " [0.    0.843 0.883]\n",
      " [0.    0.799 0.932]\n",
      " [0.    1.118 1.278]\n",
      " [0.    0.525 0.546]\n",
      " [0.    0.626 1.394]\n",
      " [0.    0.927 0.932]]\n",
      "Indices:\n",
      "[[ 0  9  7]\n",
      " [ 1  8 10]\n",
      " [ 2  0 12]\n",
      " [ 3 13 17]\n",
      " [ 4  1 14]\n",
      " [ 5 13 12]\n",
      " [ 6 15 12]\n",
      " [ 7  9 11]\n",
      " [ 8  1 14]\n",
      " [ 9  7 11]\n",
      " [10 16  1]\n",
      " [11  9  7]\n",
      " [12  9 11]\n",
      " [13  3 17]\n",
      " [14  8  4]\n",
      " [15  9  7]\n",
      " [16 10  8]\n",
      " [17  3 13]]\n",
      "2024-10-27 18:41:22 R2GWRJJGF9 root[41795] INFO Similarity (<=0.85 dist) found for bernal jiménez gutiérrez (0) with mammalian brains (9): Distance 0.7946487069129944\n",
      "2024-10-27 18:41:22 R2GWRJJGF9 root[41795] INFO Similarity (<=0.85 dist) found for bernal jiménez gutiérrez (0) with su.809@osu.edu (7): Distance 0.8227523565292358\n",
      "2024-10-27 18:41:22 R2GWRJJGF9 root[41795] INFO Similarity (<=0.85 dist) found for mammalian (3) with gu.826@osu.edu (13): Distance 0.7987977266311646\n",
      "2024-10-27 18:41:22 R2GWRJJGF9 root[41795] INFO Similarity (<=0.85 dist) found for su.809@osu.edu (7) with mammalian brains (9): Distance 0.33689117431640625\n",
      "2024-10-27 18:41:22 R2GWRJJGF9 root[41795] INFO Similarity (<=0.85 dist) found for su.809@osu.edu (7) with hipporag (11): Distance 0.4766855239868164\n",
      "2024-10-27 18:41:22 R2GWRJJGF9 root[41795] INFO Similarity (<=0.85 dist) found for mammalian brains (9) with su.809@osu.edu (7): Distance 0.33689117431640625\n",
      "2024-10-27 18:41:22 R2GWRJJGF9 root[41795] INFO Similarity (<=0.85 dist) found for mammalian brains (9) with hipporag (11): Distance 0.4673672914505005\n",
      "2024-10-27 18:41:22 R2GWRJJGF9 root[41795] INFO Similarity (<=0.85 dist) found for retrieval-augmented generation (10) with jimenezgutierrez.1@osu.edu (16): Distance 0.6263604760169983\n",
      "2024-10-27 18:41:22 R2GWRJJGF9 root[41795] INFO Similarity (<=0.85 dist) found for hipporag (11) with mammalian brains (9): Distance 0.4673672914505005\n",
      "2024-10-27 18:41:22 R2GWRJJGF9 root[41795] INFO Similarity (<=0.85 dist) found for hipporag (11) with su.809@osu.edu (7): Distance 0.4766855239868164\n",
      "2024-10-27 18:41:22 R2GWRJJGF9 root[41795] INFO Similarity (<=0.85 dist) found for the ohio state university (12) with mammalian brains (9): Distance 0.8431861996650696\n",
      "2024-10-27 18:41:22 R2GWRJJGF9 root[41795] INFO Similarity (<=0.85 dist) found for gu.826@osu.edu (13) with mammalian (3): Distance 0.7987977266311646\n",
      "2024-10-27 18:41:22 R2GWRJJGF9 root[41795] INFO Similarity (<=0.85 dist) found for yiheng shu (15) with mammalian brains (9): Distance 0.5248570442199707\n",
      "2024-10-27 18:41:22 R2GWRJJGF9 root[41795] INFO Similarity (<=0.85 dist) found for yiheng shu (15) with su.809@osu.edu (7): Distance 0.5455892086029053\n",
      "2024-10-27 18:41:22 R2GWRJJGF9 root[41795] INFO Similarity (<=0.85 dist) found for jimenezgutierrez.1@osu.edu (16) with retrieval-augmented generation (10): Distance 0.6263604760169983\n",
      "2024-10-27 18:41:22 R2GWRJJGF9 root[41795] INFO Similarity (<=0.85 dist) found for bernal jiménez gutiérrez (0) with mammalian brains (9): Distance 0.7946487069129944\n",
      "2024-10-27 18:41:22 R2GWRJJGF9 root[41795] INFO Similarity (<=0.85 dist) found for bernal jiménez gutiérrez (0) with su.809@osu.edu (7): Distance 0.8227523565292358\n",
      "2024-10-27 18:41:22 R2GWRJJGF9 root[41795] INFO Similarity (<=0.85 dist) found for mammalian (3) with gu.826@osu.edu (13): Distance 0.7987977266311646\n",
      "2024-10-27 18:41:22 R2GWRJJGF9 root[41795] INFO Similarity (<=0.85 dist) found for su.809@osu.edu (7) with mammalian brains (9): Distance 0.33689117431640625\n",
      "2024-10-27 18:41:22 R2GWRJJGF9 root[41795] INFO Similarity (<=0.85 dist) found for su.809@osu.edu (7) with hipporag (11): Distance 0.4766855239868164\n",
      "2024-10-27 18:41:22 R2GWRJJGF9 root[41795] INFO Similarity (<=0.85 dist) found for mammalian brains (9) with su.809@osu.edu (7): Distance 0.33689117431640625\n",
      "2024-10-27 18:41:22 R2GWRJJGF9 root[41795] INFO Similarity (<=0.85 dist) found for mammalian brains (9) with hipporag (11): Distance 0.4673672914505005\n",
      "2024-10-27 18:41:22 R2GWRJJGF9 root[41795] INFO Similarity (<=0.85 dist) found for retrieval-augmented generation (10) with jimenezgutierrez.1@osu.edu (16): Distance 0.6263604760169983\n",
      "2024-10-27 18:41:22 R2GWRJJGF9 root[41795] INFO Similarity (<=0.85 dist) found for hipporag (11) with mammalian brains (9): Distance 0.4673672914505005\n",
      "2024-10-27 18:41:22 R2GWRJJGF9 root[41795] INFO Similarity (<=0.85 dist) found for hipporag (11) with su.809@osu.edu (7): Distance 0.4766855239868164\n",
      "2024-10-27 18:41:22 R2GWRJJGF9 root[41795] INFO Similarity (<=0.85 dist) found for the ohio state university (12) with mammalian brains (9): Distance 0.8431861996650696\n",
      "2024-10-27 18:41:22 R2GWRJJGF9 root[41795] INFO Similarity (<=0.85 dist) found for gu.826@osu.edu (13) with mammalian (3): Distance 0.7987977266311646\n",
      "2024-10-27 18:41:22 R2GWRJJGF9 root[41795] INFO Similarity (<=0.85 dist) found for yiheng shu (15) with mammalian brains (9): Distance 0.5248570442199707\n",
      "2024-10-27 18:41:22 R2GWRJJGF9 root[41795] INFO Similarity (<=0.85 dist) found for yiheng shu (15) with su.809@osu.edu (7): Distance 0.5455892086029053\n",
      "2024-10-27 18:41:22 R2GWRJJGF9 root[41795] INFO Similarity (<=0.85 dist) found for jimenezgutierrez.1@osu.edu (16) with retrieval-augmented generation (10): Distance 0.6263604760169983\n"
     ]
    },
    {
     "name": "stdout",
     "output_type": "stream",
     "text": [
      "[{'entity': 'bernal jiménez gutiérrez', 'similar_entity': 'mammalian brains'}, {'entity': 'bernal jiménez gutiérrez', 'similar_entity': 'su.809@osu.edu'}, {'entity': 'mammalian', 'similar_entity': 'gu.826@osu.edu'}, {'entity': 'su.809@osu.edu', 'similar_entity': 'mammalian brains'}, {'entity': 'su.809@osu.edu', 'similar_entity': 'hipporag'}, {'entity': 'mammalian brains', 'similar_entity': 'su.809@osu.edu'}, {'entity': 'mammalian brains', 'similar_entity': 'hipporag'}, {'entity': 'retrieval-augmented generation', 'similar_entity': 'jimenezgutierrez.1@osu.edu'}, {'entity': 'hipporag', 'similar_entity': 'mammalian brains'}, {'entity': 'hipporag', 'similar_entity': 'su.809@osu.edu'}, {'entity': 'the ohio state university', 'similar_entity': 'mammalian brains'}, {'entity': 'gu.826@osu.edu', 'similar_entity': 'mammalian'}, {'entity': 'yiheng shu', 'similar_entity': 'mammalian brains'}, {'entity': 'yiheng shu', 'similar_entity': 'su.809@osu.edu'}, {'entity': 'jimenezgutierrez.1@osu.edu', 'similar_entity': 'retrieval-augmented generation'}]\n"
     ]
    }
   ],
   "source": [
    "\n",
    "embs_as_nparrays = np.array(entities_embeddings)\n",
    "\n",
    "def create_index(vectors: np.ndarray, emb_dimension: int, M: int) -> faiss.IndexHNSWFlat:\n",
    "    # See https://www.pinecone.io/learn/series/faiss/hnsw/ for info about HNSW\n",
    "    # See also https://bakingai.com/blog/hnsw-semantic-search-faiss-integration/\n",
    "    faiss_index = faiss.IndexHNSWFlat(emb_dimension, M)\n",
    "\n",
    "    # convert to numpy array\n",
    "\n",
    "    faiss_index.add(vectors)  # Build the index\n",
    "\n",
    "    return faiss_index\n",
    "\n",
    "def search_index(faiss_index: faiss.IndexHNSWFlat, query: list, recall_at_k: int) -> tuple:\n",
    "    distances, indices = faiss_index.search(query, recall_at_k)\n",
    "    logger.info(f\"\\nDistances:\\n{np.round(distances, 3)}\\nIndices:\\n{indices}\")\n",
    "    \n",
    "    return distances, indices\n",
    "\n",
    "def calculate_scores(distances: list) -> list:\n",
    "    scores = 1 / (1 + distances)  # Inverting distances to get similarity scores.\n",
    "    print(\"Similarity Scores: \", scores)\n",
    "    return scores\n",
    "\n",
    "def build_similar_entities(entities: list, indices: list, distances: list, recall_at_k: int, max_distance: float=0.7) -> list:\n",
    "    similar_entities = []\n",
    "    for idx, entity in enumerate(entities):\n",
    "        for i in range(recall_at_k):\n",
    "            if indices[idx][i] != idx and distances[idx][i] <= max_distance:\n",
    "                logger.info(f\"Similarity (<={max_distance} dist) found for {entity} ({idx}) with {entities[indices[idx][i]]} ({indices[idx][i]}): Distance {distances[idx][i]}\")\n",
    "                similar_entities.append(\n",
    "                    {\n",
    "                        \"entity\": entity, \n",
    "                        \"similar_entity\": entities[indices[idx][i]]\n",
    "                    }\n",
    "                )\n",
    "    return similar_entities\n",
    "\n",
    "# https://medium.com/@asakisakamoto02/how-to-use-faiss-similarity-search-with-score-explained-99ea3fe964cf\n",
    "def build_similar_entities_with_scores(entities: list, indices: list, scores: list, recall_at_k: int, min_score: float=0.5) -> list:\n",
    "    similar_entities = []\n",
    "    for idx, entity in enumerate(entities):\n",
    "        for i in range(recall_at_k):\n",
    "            if indices[idx][i] != idx and scores[idx][i] > min_score:\n",
    "                logger.info(f\"Similarity (>{min_score} score) found for {entity} ({idx}) with {entities[indices[idx][i]]} ({indices[idx][i]}): Score {scores[idx][i]}\")\n",
    "                similar_entities.append(\n",
    "                    {\n",
    "                        \"entity\": entity, \n",
    "                        \"similar_entity\": entities[indices[idx][i]]\n",
    "                    }\n",
    "                )\n",
    "    return similar_entities\n",
    "\n",
    "\n",
    "recall_at_k = 3  # how far in the indices/distances we go\n",
    "\n",
    "faiss_index = create_index(embs_as_nparrays, emb_dimension, M)\n",
    "# We query with the same elements we indexed\n",
    "distances, indexes = search_index(faiss_index, embs_as_nparrays, recall_at_k)\n",
    "similar_entities = build_similar_entities(entities, indexes, distances, recall_at_k, max_distance=0.85)  # Original max_distance=0.7\n",
    "\n",
    "similar_entities_score = build_similar_entities(entities, indexes, distances, recall_at_k, max_distance=0.85)  # Original max_distance=0.7\n",
    "            \n",
    "print(similar_entities)\n"
   ]
  },
  {
   "cell_type": "code",
   "execution_count": 40,
   "metadata": {},
   "outputs": [
    {
     "name": "stderr",
     "output_type": "stream",
     "text": [
      "2024-10-27 12:36:56 R2GWRJJGF9 root[70220] INFO Similarity (>0.5 score) found for the ohio state university (0) with su.809@osu.edu (9): Score 0.5572121143341064\n",
      "2024-10-27 12:36:56 R2GWRJJGF9 root[70220] INFO Similarity (>0.5 score) found for the ohio state university (0) with gu.826@osu.edu (7): Score 0.548620879650116\n",
      "2024-10-27 12:36:56 R2GWRJJGF9 root[70220] INFO Similarity (>0.5 score) found for hippocampal indexing (1) with hipporag (8): Score 0.5012723207473755\n",
      "2024-10-27 12:36:56 R2GWRJJGF9 root[70220] INFO Similarity (>0.5 score) found for stanford university (2) with the ohio state university (0): Score 0.5038489103317261\n",
      "2024-10-27 12:36:56 R2GWRJJGF9 root[70220] INFO Similarity (>0.5 score) found for yu gu (3) with yu su (13): Score 0.5559268593788147\n",
      "2024-10-27 12:36:56 R2GWRJJGF9 root[70220] INFO Similarity (>0.5 score) found for yu gu (3) with yiheng shu (17): Score 0.5188145041465759\n",
      "2024-10-27 12:36:56 R2GWRJJGF9 root[70220] INFO Similarity (>0.5 score) found for bernal jiménez gutiérrez (6) with jimenezgutierrez.1@osu.edu (15): Score 0.5129135847091675\n",
      "2024-10-27 12:36:56 R2GWRJJGF9 root[70220] INFO Similarity (>0.5 score) found for gu.826@osu.edu (7) with su.809@osu.edu (9): Score 0.7480040192604065\n",
      "2024-10-27 12:36:56 R2GWRJJGF9 root[70220] INFO Similarity (>0.5 score) found for gu.826@osu.edu (7) with shu.251@osu.edu (11): Score 0.6771922707557678\n",
      "2024-10-27 12:36:56 R2GWRJJGF9 root[70220] INFO Similarity (>0.5 score) found for hipporag (8) with hippocampal indexing (1): Score 0.5012723207473755\n",
      "2024-10-27 12:36:56 R2GWRJJGF9 root[70220] INFO Similarity (>0.5 score) found for su.809@osu.edu (9) with gu.826@osu.edu (7): Score 0.7480040192604065\n",
      "2024-10-27 12:36:56 R2GWRJJGF9 root[70220] INFO Similarity (>0.5 score) found for su.809@osu.edu (9) with shu.251@osu.edu (11): Score 0.6814926266670227\n",
      "2024-10-27 12:36:56 R2GWRJJGF9 root[70220] INFO Similarity (>0.5 score) found for mammalian brains (10) with mammalian (16): Score 0.6148698329925537\n",
      "2024-10-27 12:36:56 R2GWRJJGF9 root[70220] INFO Similarity (>0.5 score) found for shu.251@osu.edu (11) with su.809@osu.edu (9): Score 0.6814926266670227\n",
      "2024-10-27 12:36:56 R2GWRJJGF9 root[70220] INFO Similarity (>0.5 score) found for shu.251@osu.edu (11) with gu.826@osu.edu (7): Score 0.6771922707557678\n",
      "2024-10-27 12:36:56 R2GWRJJGF9 root[70220] INFO Similarity (>0.5 score) found for myasu@cs.stanford.edu (12) with su.809@osu.edu (9): Score 0.5425388216972351\n",
      "2024-10-27 12:36:56 R2GWRJJGF9 root[70220] INFO Similarity (>0.5 score) found for myasu@cs.stanford.edu (12) with shu.251@osu.edu (11): Score 0.5310487747192383\n",
      "2024-10-27 12:36:56 R2GWRJJGF9 root[70220] INFO Similarity (>0.5 score) found for yu su (13) with yu gu (3): Score 0.5559268593788147\n",
      "2024-10-27 12:36:56 R2GWRJJGF9 root[70220] INFO Similarity (>0.5 score) found for yu su (13) with yiheng shu (17): Score 0.5175302624702454\n",
      "2024-10-27 12:36:56 R2GWRJJGF9 root[70220] INFO Similarity (>0.5 score) found for jimenezgutierrez.1@osu.edu (15) with su.809@osu.edu (9): Score 0.6557992100715637\n",
      "2024-10-27 12:36:56 R2GWRJJGF9 root[70220] INFO Similarity (>0.5 score) found for jimenezgutierrez.1@osu.edu (15) with gu.826@osu.edu (7): Score 0.6470024585723877\n",
      "2024-10-27 12:36:56 R2GWRJJGF9 root[70220] INFO Similarity (>0.5 score) found for mammalian (16) with mammalian brains (10): Score 0.6148698329925537\n",
      "2024-10-27 12:36:56 R2GWRJJGF9 root[70220] INFO Similarity (>0.5 score) found for yiheng shu (17) with yu gu (3): Score 0.5188145041465759\n",
      "2024-10-27 12:36:56 R2GWRJJGF9 root[70220] INFO Similarity (>0.5 score) found for yiheng shu (17) with yu su (13): Score 0.5175302624702454\n"
     ]
    },
    {
     "name": "stdout",
     "output_type": "stream",
     "text": [
      "Similarity Scores:  [[1.         0.5572121  0.5486209 ]\n",
      " [1.         0.5012723  0.45496228]\n",
      " [1.         0.5038489  0.48497996]\n",
      " [1.         0.55592686 0.5188145 ]\n",
      " [1.         0.44373468 0.4389289 ]\n",
      " [1.         0.48466164 0.45469397]\n",
      " [1.         0.5129136  0.4124956 ]\n",
      " [1.         0.748004   0.6771923 ]\n",
      " [1.         0.5012723  0.47223186]\n",
      " [1.         0.748004   0.6814926 ]\n",
      " [1.         0.61486983 0.45496228]\n",
      " [1.         0.6814926  0.6771923 ]\n",
      " [1.         0.5425388  0.5310488 ]\n",
      " [1.         0.55592686 0.51753026]\n",
      " [1.         0.47223186 0.4389289 ]\n",
      " [1.         0.6557992  0.64700246]\n",
      " [1.         0.61486983 0.41763887]\n",
      " [1.         0.5188145  0.51753026]]\n",
      "[{'entity': 'the ohio state university', 'similar_entity': 'su.809@osu.edu'}, {'entity': 'the ohio state university', 'similar_entity': 'gu.826@osu.edu'}, {'entity': 'hippocampal indexing', 'similar_entity': 'hipporag'}, {'entity': 'stanford university', 'similar_entity': 'the ohio state university'}, {'entity': 'yu gu', 'similar_entity': 'yu su'}, {'entity': 'yu gu', 'similar_entity': 'yiheng shu'}, {'entity': 'bernal jiménez gutiérrez', 'similar_entity': 'jimenezgutierrez.1@osu.edu'}, {'entity': 'gu.826@osu.edu', 'similar_entity': 'su.809@osu.edu'}, {'entity': 'gu.826@osu.edu', 'similar_entity': 'shu.251@osu.edu'}, {'entity': 'hipporag', 'similar_entity': 'hippocampal indexing'}, {'entity': 'su.809@osu.edu', 'similar_entity': 'gu.826@osu.edu'}, {'entity': 'su.809@osu.edu', 'similar_entity': 'shu.251@osu.edu'}, {'entity': 'mammalian brains', 'similar_entity': 'mammalian'}, {'entity': 'shu.251@osu.edu', 'similar_entity': 'su.809@osu.edu'}, {'entity': 'shu.251@osu.edu', 'similar_entity': 'gu.826@osu.edu'}, {'entity': 'myasu@cs.stanford.edu', 'similar_entity': 'su.809@osu.edu'}, {'entity': 'myasu@cs.stanford.edu', 'similar_entity': 'shu.251@osu.edu'}, {'entity': 'yu su', 'similar_entity': 'yu gu'}, {'entity': 'yu su', 'similar_entity': 'yiheng shu'}, {'entity': 'jimenezgutierrez.1@osu.edu', 'similar_entity': 'su.809@osu.edu'}, {'entity': 'jimenezgutierrez.1@osu.edu', 'similar_entity': 'gu.826@osu.edu'}, {'entity': 'mammalian', 'similar_entity': 'mammalian brains'}, {'entity': 'yiheng shu', 'similar_entity': 'yu gu'}, {'entity': 'yiheng shu', 'similar_entity': 'yu su'}]\n"
     ]
    }
   ],
   "source": [
    "scores = calculate_scores(distances)\n",
    "\n",
    "similar_entities_score = build_similar_entities_with_scores(entities, indexes, scores, recall_at_k, min_score=0.5)  # Original max_distance=0.7\n",
    "            \n",
    "print(similar_entities_score)"
   ]
  },
  {
   "cell_type": "markdown",
   "metadata": {},
   "source": [
    "# Individual similarities"
   ]
  },
  {
   "cell_type": "code",
   "execution_count": 53,
   "metadata": {},
   "outputs": [
    {
     "name": "stderr",
     "output_type": "stream",
     "text": [
      "2024-10-27 12:53:55 R2GWRJJGF9 root[70220] INFO ['the ohio state university', 'hippocampal indexing', 'stanford university', 'yu gu', 'retrieval-augmented generation', 'michihiro yasunaga', 'bernal jiménez gutiérrez', 'gu.826@osu.edu', 'hipporag', 'su.809@osu.edu', 'mammalian brains', 'shu.251@osu.edu', 'myasu@cs.stanford.edu', 'yu su', 'rag', 'jimenezgutierrez.1@osu.edu', 'mammalian', 'yiheng shu']\n",
      "2024-10-27 12:53:55 R2GWRJJGF9 httpx[70220] INFO HTTP Request: POST https://api.openai.com/v1/embeddings \"HTTP/1.1 200 OK\"\n"
     ]
    }
   ],
   "source": [
    "logger.info(entities)\n",
    "\n",
    "bernal = \"Jiménez Gutiérrez\".lower()\n",
    "\n",
    "\n",
    "openai_embeddings = OpenAIEmbeddings(model=\"text-embedding-3-small\", dimensions=emb_dimension)\n",
    "bernal_embeddings = openai_embeddings.embed_documents([bernal])  # Embeddings are a list of list of floats\n",
    "bernal_as_nparrays = np.array(bernal_embeddings)\n"
   ]
  },
  {
   "cell_type": "code",
   "execution_count": 54,
   "metadata": {},
   "outputs": [
    {
     "name": "stderr",
     "output_type": "stream",
     "text": [
      "2024-10-27 12:53:55 R2GWRJJGF9 root[70220] INFO \n",
      "Distances:\n",
      "[[0.299 0.761 1.343]]\n",
      "Indices:\n",
      "[[ 6 15  3]]\n",
      "2024-10-27 12:53:55 R2GWRJJGF9 root[70220] INFO Similarity found for jiménez gutiérrez with bernal jiménez gutiérrez (6): Distance 0.2989356815814972\n",
      "2024-10-27 12:53:55 R2GWRJJGF9 root[70220] INFO Similarity found for jiménez gutiérrez with jimenezgutierrez.1@osu.edu (15): Distance 0.7609552145004272\n",
      "2024-10-27 12:53:55 R2GWRJJGF9 root[70220] INFO Similarity found for jiménez gutiérrez with bernal jiménez gutiérrez (6): Score 0.7699999809265137\n",
      "2024-10-27 12:53:55 R2GWRJJGF9 root[70220] INFO Similarity found for jiménez gutiérrez with jimenezgutierrez.1@osu.edu (15): Score 0.5680000185966492\n"
     ]
    },
    {
     "name": "stdout",
     "output_type": "stream",
     "text": [
      "Similarity Scores:  [[0.77  0.568 0.427]]\n"
     ]
    }
   ],
   "source": [
    "\n",
    "distances, indexes = search_index(faiss_index, bernal_as_nparrays, recall_at_k)\n",
    "\n",
    "# Distance wise calculation\n",
    "for idx, entity in enumerate([bernal]):\n",
    "    for i in range(recall_at_k):\n",
    "        if entity != entities[indexes[idx][i]] and distances[idx][i] <= 0.95:\n",
    "            logger.info(f\"Similarity found for {bernal} with {entities[indexes[idx][i]]} ({indexes[idx][i]}): Distance {distances[idx][i]}\")\n",
    "\n",
    "\n",
    "import numpy as np\n",
    "# Score wise calculation\n",
    "scores = 1 / (1 + distances)  # Inverting distances to get similarity scores.\n",
    "print(\"Similarity Scores: \", np.round(scores, 3))\n",
    "\n",
    "for idx, entity in enumerate([bernal]):\n",
    "    for i in range(recall_at_k):\n",
    "        if entity != entities[indexes[idx][i]] and scores[idx][i] > 0.5:\n",
    "            logger.info(f\"Similarity found for {bernal} with {entities[indexes[idx][i]]} ({indexes[idx][i]}): Score {round(scores[idx][i], 3)}\")\n"
   ]
  },
  {
   "cell_type": "markdown",
   "metadata": {},
   "source": [
    "# Neo4j Exploration"
   ]
  },
  {
   "cell_type": "code",
   "execution_count": 1,
   "metadata": {},
   "outputs": [
    {
     "name": "stdout",
     "output_type": "stream",
     "text": [
      "neo4j+s://492f27e5.databases.neo4j.io\n"
     ]
    }
   ],
   "source": [
    "import os\n",
    "from langchain_community.graphs import Neo4jGraph\n",
    "\n",
    "NEO4J_URI = os.environ[\"NEO4J_URI\"]\n",
    "NEO4J_USERNAME = os.environ[\"NEO4J_USERNAME\"]\n",
    "NEO4J_PASSWORD = os.environ[\"NEO4J_PASSWORD\"]\n",
    "NEO4J_DATABASE = \"neo4j\"\n",
    "\n",
    "print(NEO4J_URI)"
   ]
  },
  {
   "cell_type": "code",
   "execution_count": 4,
   "metadata": {},
   "outputs": [
    {
     "name": "stderr",
     "output_type": "stream",
     "text": [
      "2024-10-27 22:57:10 R2GWRJJGF9 root[55402] INFO <class 'langchain_community.graphs.neo4j_graph.Neo4jGraph'>\n"
     ]
    }
   ],
   "source": [
    "kg = Neo4jGraph(\n",
    "    url=NEO4J_URI, username=NEO4J_USERNAME, password=NEO4J_PASSWORD, database=NEO4J_DATABASE\n",
    ")\n",
    "\n",
    "logger.info(type(kg))\n"
   ]
  },
  {
   "cell_type": "markdown",
   "metadata": {},
   "source": [
    "# Clean Database"
   ]
  },
  {
   "cell_type": "code",
   "execution_count": 10,
   "metadata": {},
   "outputs": [
    {
     "name": "stdout",
     "output_type": "stream",
     "text": [
      "[]\n",
      "[]\n"
     ]
    },
    {
     "ename": "CypherSyntaxError",
     "evalue": "{code: Neo.ClientError.Statement.SyntaxError} {message: Invalid input '': expected an expression, '.', ':', 'IS' or '[' (line 4, column 1 (offset: 25))\n\"REMOVE Entity\"\n              ^}",
     "output_type": "error",
     "traceback": [
      "\u001b[0;31m---------------------------------------------------------------------------\u001b[0m",
      "\u001b[0;31mCypherSyntaxError\u001b[0m                         Traceback (most recent call last)",
      "Cell \u001b[0;32mIn[10], line 25\u001b[0m\n\u001b[1;32m     17\u001b[0m \u001b[38;5;28mprint\u001b[39m(result)\n\u001b[1;32m     20\u001b[0m query \u001b[38;5;241m=\u001b[39m \u001b[38;5;124m\"\"\"\u001b[39m\n\u001b[1;32m     21\u001b[0m \u001b[38;5;124mMATCH (n)\u001b[39m\n\u001b[1;32m     22\u001b[0m \u001b[38;5;124mREMOVE Entity\u001b[39m\n\u001b[1;32m     23\u001b[0m \u001b[38;5;124m\"\"\"\u001b[39m\n\u001b[0;32m---> 25\u001b[0m result \u001b[38;5;241m=\u001b[39m \u001b[43mkg\u001b[49m\u001b[38;5;241;43m.\u001b[39;49m\u001b[43mquery\u001b[49m\u001b[43m(\u001b[49m\u001b[43mquery\u001b[49m\u001b[43m)\u001b[49m\n\u001b[1;32m     26\u001b[0m \u001b[38;5;28mprint\u001b[39m(result)\n",
      "File \u001b[0;32m~/dev/agents/berkeley-course-2024/hackathon/.pixi/envs/default/lib/python3.12/site-packages/langchain_community/graphs/neo4j_graph.py:431\u001b[0m, in \u001b[0;36mNeo4jGraph.query\u001b[0;34m(self, query, params)\u001b[0m\n\u001b[1;32m    428\u001b[0m \u001b[38;5;28;01mfrom\u001b[39;00m \u001b[38;5;21;01mneo4j\u001b[39;00m\u001b[38;5;21;01m.\u001b[39;00m\u001b[38;5;21;01mexceptions\u001b[39;00m \u001b[38;5;28;01mimport\u001b[39;00m Neo4jError\n\u001b[1;32m    430\u001b[0m \u001b[38;5;28;01mtry\u001b[39;00m:\n\u001b[0;32m--> 431\u001b[0m     data, _, _ \u001b[38;5;241m=\u001b[39m \u001b[38;5;28;43mself\u001b[39;49m\u001b[38;5;241;43m.\u001b[39;49m\u001b[43m_driver\u001b[49m\u001b[38;5;241;43m.\u001b[39;49m\u001b[43mexecute_query\u001b[49m\u001b[43m(\u001b[49m\n\u001b[1;32m    432\u001b[0m \u001b[43m        \u001b[49m\u001b[43mQuery\u001b[49m\u001b[43m(\u001b[49m\u001b[43mtext\u001b[49m\u001b[38;5;241;43m=\u001b[39;49m\u001b[43mquery\u001b[49m\u001b[43m,\u001b[49m\u001b[43m \u001b[49m\u001b[43mtimeout\u001b[49m\u001b[38;5;241;43m=\u001b[39;49m\u001b[38;5;28;43mself\u001b[39;49m\u001b[38;5;241;43m.\u001b[39;49m\u001b[43mtimeout\u001b[49m\u001b[43m)\u001b[49m\u001b[43m,\u001b[49m\n\u001b[1;32m    433\u001b[0m \u001b[43m        \u001b[49m\u001b[43mdatabase_\u001b[49m\u001b[38;5;241;43m=\u001b[39;49m\u001b[38;5;28;43mself\u001b[39;49m\u001b[38;5;241;43m.\u001b[39;49m\u001b[43m_database\u001b[49m\u001b[43m,\u001b[49m\n\u001b[1;32m    434\u001b[0m \u001b[43m        \u001b[49m\u001b[43mparameters_\u001b[49m\u001b[38;5;241;43m=\u001b[39;49m\u001b[43mparams\u001b[49m\u001b[43m,\u001b[49m\n\u001b[1;32m    435\u001b[0m \u001b[43m    \u001b[49m\u001b[43m)\u001b[49m\n\u001b[1;32m    436\u001b[0m     json_data \u001b[38;5;241m=\u001b[39m [r\u001b[38;5;241m.\u001b[39mdata() \u001b[38;5;28;01mfor\u001b[39;00m r \u001b[38;5;129;01min\u001b[39;00m data]\n\u001b[1;32m    437\u001b[0m     \u001b[38;5;28;01mif\u001b[39;00m \u001b[38;5;28mself\u001b[39m\u001b[38;5;241m.\u001b[39msanitize:\n",
      "File \u001b[0;32m~/dev/agents/berkeley-course-2024/hackathon/.pixi/envs/default/lib/python3.12/site-packages/neo4j/_sync/driver.py:971\u001b[0m, in \u001b[0;36mDriver.execute_query\u001b[0;34m(self, query_, parameters_, routing_, database_, impersonated_user_, bookmark_manager_, auth_, result_transformer_, **kwargs)\u001b[0m\n\u001b[1;32m    967\u001b[0m     \u001b[38;5;28;01mraise\u001b[39;00m \u001b[38;5;167;01mValueError\u001b[39;00m(\n\u001b[1;32m    968\u001b[0m         \u001b[38;5;124mf\u001b[39m\u001b[38;5;124m\"\u001b[39m\u001b[38;5;124mInvalid routing control value: \u001b[39m\u001b[38;5;132;01m{\u001b[39;00mrouting_\u001b[38;5;132;01m!r}\u001b[39;00m\u001b[38;5;124m\"\u001b[39m\n\u001b[1;32m    969\u001b[0m     )\n\u001b[1;32m    970\u001b[0m \u001b[38;5;28;01mwith\u001b[39;00m session\u001b[38;5;241m.\u001b[39m_pipelined_begin:\n\u001b[0;32m--> 971\u001b[0m     \u001b[38;5;28;01mreturn\u001b[39;00m \u001b[43msession\u001b[49m\u001b[38;5;241;43m.\u001b[39;49m\u001b[43m_run_transaction\u001b[49m\u001b[43m(\u001b[49m\n\u001b[1;32m    972\u001b[0m \u001b[43m        \u001b[49m\u001b[43maccess_mode\u001b[49m\u001b[43m,\u001b[49m\n\u001b[1;32m    973\u001b[0m \u001b[43m        \u001b[49m\u001b[43mTelemetryAPI\u001b[49m\u001b[38;5;241;43m.\u001b[39;49m\u001b[43mDRIVER\u001b[49m\u001b[43m,\u001b[49m\n\u001b[1;32m    974\u001b[0m \u001b[43m        \u001b[49m\u001b[43mwork\u001b[49m\u001b[43m,\u001b[49m\n\u001b[1;32m    975\u001b[0m \u001b[43m        \u001b[49m\u001b[43m(\u001b[49m\u001b[43mquery_str\u001b[49m\u001b[43m,\u001b[49m\u001b[43m \u001b[49m\u001b[43mparameters\u001b[49m\u001b[43m,\u001b[49m\u001b[43m \u001b[49m\u001b[43mresult_transformer_\u001b[49m\u001b[43m)\u001b[49m\u001b[43m,\u001b[49m\n\u001b[1;32m    976\u001b[0m \u001b[43m        \u001b[49m\u001b[43m{\u001b[49m\u001b[43m}\u001b[49m\u001b[43m,\u001b[49m\n\u001b[1;32m    977\u001b[0m \u001b[43m    \u001b[49m\u001b[43m)\u001b[49m\n",
      "File \u001b[0;32m~/dev/agents/berkeley-course-2024/hackathon/.pixi/envs/default/lib/python3.12/site-packages/neo4j/_sync/work/session.py:574\u001b[0m, in \u001b[0;36mSession._run_transaction\u001b[0;34m(self, access_mode, api, transaction_function, args, kwargs)\u001b[0m\n\u001b[1;32m    572\u001b[0m tx \u001b[38;5;241m=\u001b[39m \u001b[38;5;28mself\u001b[39m\u001b[38;5;241m.\u001b[39m_transaction\n\u001b[1;32m    573\u001b[0m \u001b[38;5;28;01mtry\u001b[39;00m:\n\u001b[0;32m--> 574\u001b[0m     result \u001b[38;5;241m=\u001b[39m \u001b[43mtransaction_function\u001b[49m\u001b[43m(\u001b[49m\u001b[43mtx\u001b[49m\u001b[43m,\u001b[49m\u001b[43m \u001b[49m\u001b[38;5;241;43m*\u001b[39;49m\u001b[43margs\u001b[49m\u001b[43m,\u001b[49m\u001b[43m \u001b[49m\u001b[38;5;241;43m*\u001b[39;49m\u001b[38;5;241;43m*\u001b[39;49m\u001b[43mkwargs\u001b[49m\u001b[43m)\u001b[49m\n\u001b[1;32m    575\u001b[0m \u001b[38;5;28;01mexcept\u001b[39;00m asyncio\u001b[38;5;241m.\u001b[39mCancelledError:\n\u001b[1;32m    576\u001b[0m     \u001b[38;5;66;03m# if cancellation callback has not been called yet:\u001b[39;00m\n\u001b[1;32m    577\u001b[0m     \u001b[38;5;28;01mif\u001b[39;00m \u001b[38;5;28mself\u001b[39m\u001b[38;5;241m.\u001b[39m_transaction \u001b[38;5;129;01mis\u001b[39;00m \u001b[38;5;129;01mnot\u001b[39;00m \u001b[38;5;28;01mNone\u001b[39;00m:\n",
      "File \u001b[0;32m~/dev/agents/berkeley-course-2024/hackathon/.pixi/envs/default/lib/python3.12/site-packages/neo4j/_work/query.py:144\u001b[0m, in \u001b[0;36munit_of_work.<locals>.wrapper.<locals>.wrapped\u001b[0;34m(*args, **kwargs)\u001b[0m\n\u001b[1;32m    143\u001b[0m \u001b[38;5;28;01mdef\u001b[39;00m \u001b[38;5;21mwrapped\u001b[39m(\u001b[38;5;241m*\u001b[39margs, \u001b[38;5;241m*\u001b[39m\u001b[38;5;241m*\u001b[39mkwargs):\n\u001b[0;32m--> 144\u001b[0m     \u001b[38;5;28;01mreturn\u001b[39;00m \u001b[43mf\u001b[49m\u001b[43m(\u001b[49m\u001b[38;5;241;43m*\u001b[39;49m\u001b[43margs\u001b[49m\u001b[43m,\u001b[49m\u001b[43m \u001b[49m\u001b[38;5;241;43m*\u001b[39;49m\u001b[38;5;241;43m*\u001b[39;49m\u001b[43mkwargs\u001b[49m\u001b[43m)\u001b[49m\n",
      "File \u001b[0;32m~/dev/agents/berkeley-course-2024/hackathon/.pixi/envs/default/lib/python3.12/site-packages/neo4j/_sync/driver.py:1307\u001b[0m, in \u001b[0;36m_work\u001b[0;34m(tx, query, parameters, transformer)\u001b[0m\n\u001b[1;32m   1301\u001b[0m \u001b[38;5;28;01mdef\u001b[39;00m \u001b[38;5;21m_work\u001b[39m(\n\u001b[1;32m   1302\u001b[0m     tx: ManagedTransaction,\n\u001b[1;32m   1303\u001b[0m     query: te\u001b[38;5;241m.\u001b[39mLiteralString,\n\u001b[1;32m   1304\u001b[0m     parameters: \u001b[38;5;28mdict\u001b[39m[\u001b[38;5;28mstr\u001b[39m, t\u001b[38;5;241m.\u001b[39mAny],\n\u001b[1;32m   1305\u001b[0m     transformer: t\u001b[38;5;241m.\u001b[39mCallable[[Result], t\u001b[38;5;241m.\u001b[39mUnion[_T]],\n\u001b[1;32m   1306\u001b[0m ) \u001b[38;5;241m-\u001b[39m\u001b[38;5;241m>\u001b[39m _T:\n\u001b[0;32m-> 1307\u001b[0m     res \u001b[38;5;241m=\u001b[39m \u001b[43mtx\u001b[49m\u001b[38;5;241;43m.\u001b[39;49m\u001b[43mrun\u001b[49m\u001b[43m(\u001b[49m\u001b[43mquery\u001b[49m\u001b[43m,\u001b[49m\u001b[43m \u001b[49m\u001b[43mparameters\u001b[49m\u001b[43m)\u001b[49m\n\u001b[1;32m   1308\u001b[0m     \u001b[38;5;28;01mreturn\u001b[39;00m transformer(res)\n",
      "File \u001b[0;32m~/dev/agents/berkeley-course-2024/hackathon/.pixi/envs/default/lib/python3.12/site-packages/neo4j/_sync/work/transaction.py:195\u001b[0m, in \u001b[0;36mTransactionBase.run\u001b[0;34m(self, query, parameters, **kwparameters)\u001b[0m\n\u001b[1;32m    192\u001b[0m \u001b[38;5;28mself\u001b[39m\u001b[38;5;241m.\u001b[39m_results\u001b[38;5;241m.\u001b[39mappend(result)\n\u001b[1;32m    194\u001b[0m parameters \u001b[38;5;241m=\u001b[39m \u001b[38;5;28mdict\u001b[39m(parameters \u001b[38;5;129;01mor\u001b[39;00m {}, \u001b[38;5;241m*\u001b[39m\u001b[38;5;241m*\u001b[39mkwparameters)\n\u001b[0;32m--> 195\u001b[0m \u001b[43mresult\u001b[49m\u001b[38;5;241;43m.\u001b[39;49m\u001b[43m_tx_ready_run\u001b[49m\u001b[43m(\u001b[49m\u001b[43mquery\u001b[49m\u001b[43m,\u001b[49m\u001b[43m \u001b[49m\u001b[43mparameters\u001b[49m\u001b[43m)\u001b[49m\n\u001b[1;32m    197\u001b[0m \u001b[38;5;28;01mreturn\u001b[39;00m result\n",
      "File \u001b[0;32m~/dev/agents/berkeley-course-2024/hackathon/.pixi/envs/default/lib/python3.12/site-packages/neo4j/_sync/work/result.py:175\u001b[0m, in \u001b[0;36mResult._tx_ready_run\u001b[0;34m(self, query, parameters)\u001b[0m\n\u001b[1;32m    171\u001b[0m \u001b[38;5;28;01mdef\u001b[39;00m \u001b[38;5;21m_tx_ready_run\u001b[39m(\u001b[38;5;28mself\u001b[39m, query, parameters):\n\u001b[1;32m    172\u001b[0m     \u001b[38;5;66;03m# BEGIN+RUN does not carry any extra on the RUN message.\u001b[39;00m\n\u001b[1;32m    173\u001b[0m     \u001b[38;5;66;03m# BEGIN {extra}\u001b[39;00m\n\u001b[1;32m    174\u001b[0m     \u001b[38;5;66;03m# RUN \"query\" {parameters} {extra}\u001b[39;00m\n\u001b[0;32m--> 175\u001b[0m     \u001b[38;5;28;43mself\u001b[39;49m\u001b[38;5;241;43m.\u001b[39;49m\u001b[43m_run\u001b[49m\u001b[43m(\u001b[49m\u001b[43mquery\u001b[49m\u001b[43m,\u001b[49m\u001b[43m \u001b[49m\u001b[43mparameters\u001b[49m\u001b[43m,\u001b[49m\u001b[43m \u001b[49m\u001b[38;5;28;43;01mNone\u001b[39;49;00m\u001b[43m,\u001b[49m\u001b[43m \u001b[49m\u001b[38;5;28;43;01mNone\u001b[39;49;00m\u001b[43m,\u001b[49m\u001b[43m \u001b[49m\u001b[38;5;28;43;01mNone\u001b[39;49;00m\u001b[43m,\u001b[49m\u001b[43m \u001b[49m\u001b[38;5;28;43;01mNone\u001b[39;49;00m\u001b[43m,\u001b[49m\u001b[43m \u001b[49m\u001b[38;5;28;43;01mNone\u001b[39;49;00m\u001b[43m,\u001b[49m\u001b[43m \u001b[49m\u001b[38;5;28;43;01mNone\u001b[39;49;00m\u001b[43m)\u001b[49m\n",
      "File \u001b[0;32m~/dev/agents/berkeley-course-2024/hackathon/.pixi/envs/default/lib/python3.12/site-packages/neo4j/_sync/work/result.py:231\u001b[0m, in \u001b[0;36mResult._run\u001b[0;34m(self, query, parameters, db, imp_user, access_mode, bookmarks, notifications_min_severity, notifications_disabled_classifications)\u001b[0m\n\u001b[1;32m    229\u001b[0m \u001b[38;5;28mself\u001b[39m\u001b[38;5;241m.\u001b[39m_pull()\n\u001b[1;32m    230\u001b[0m \u001b[38;5;28mself\u001b[39m\u001b[38;5;241m.\u001b[39m_connection\u001b[38;5;241m.\u001b[39msend_all()\n\u001b[0;32m--> 231\u001b[0m \u001b[38;5;28;43mself\u001b[39;49m\u001b[38;5;241;43m.\u001b[39;49m\u001b[43m_attach\u001b[49m\u001b[43m(\u001b[49m\u001b[43m)\u001b[49m\n",
      "File \u001b[0;32m~/dev/agents/berkeley-course-2024/hackathon/.pixi/envs/default/lib/python3.12/site-packages/neo4j/_sync/work/result.py:425\u001b[0m, in \u001b[0;36mResult._attach\u001b[0;34m(self)\u001b[0m\n\u001b[1;32m    423\u001b[0m \u001b[38;5;28;01mif\u001b[39;00m \u001b[38;5;28mself\u001b[39m\u001b[38;5;241m.\u001b[39m_exhausted \u001b[38;5;129;01mis\u001b[39;00m \u001b[38;5;28;01mFalse\u001b[39;00m:\n\u001b[1;32m    424\u001b[0m     \u001b[38;5;28;01mwhile\u001b[39;00m \u001b[38;5;28mself\u001b[39m\u001b[38;5;241m.\u001b[39m_attached \u001b[38;5;129;01mis\u001b[39;00m \u001b[38;5;28;01mFalse\u001b[39;00m:\n\u001b[0;32m--> 425\u001b[0m         \u001b[38;5;28;43mself\u001b[39;49m\u001b[38;5;241;43m.\u001b[39;49m\u001b[43m_connection\u001b[49m\u001b[38;5;241;43m.\u001b[39;49m\u001b[43mfetch_message\u001b[49m\u001b[43m(\u001b[49m\u001b[43m)\u001b[49m\n",
      "File \u001b[0;32m~/dev/agents/berkeley-course-2024/hackathon/.pixi/envs/default/lib/python3.12/site-packages/neo4j/_sync/io/_common.py:181\u001b[0m, in \u001b[0;36mConnectionErrorHandler.__getattr__.<locals>.outer.<locals>.inner\u001b[0;34m(*args, **kwargs)\u001b[0m\n\u001b[1;32m    179\u001b[0m \u001b[38;5;28;01mdef\u001b[39;00m \u001b[38;5;21minner\u001b[39m(\u001b[38;5;241m*\u001b[39margs, \u001b[38;5;241m*\u001b[39m\u001b[38;5;241m*\u001b[39mkwargs):\n\u001b[1;32m    180\u001b[0m     \u001b[38;5;28;01mtry\u001b[39;00m:\n\u001b[0;32m--> 181\u001b[0m         \u001b[43mfunc\u001b[49m\u001b[43m(\u001b[49m\u001b[38;5;241;43m*\u001b[39;49m\u001b[43margs\u001b[49m\u001b[43m,\u001b[49m\u001b[43m \u001b[49m\u001b[38;5;241;43m*\u001b[39;49m\u001b[38;5;241;43m*\u001b[39;49m\u001b[43mkwargs\u001b[49m\u001b[43m)\u001b[49m\n\u001b[1;32m    182\u001b[0m     \u001b[38;5;28;01mexcept\u001b[39;00m (Neo4jError, ServiceUnavailable, SessionExpired) \u001b[38;5;28;01mas\u001b[39;00m exc:\n\u001b[1;32m    183\u001b[0m         \u001b[38;5;28;01massert\u001b[39;00m \u001b[38;5;129;01mnot\u001b[39;00m asyncio\u001b[38;5;241m.\u001b[39miscoroutinefunction(\u001b[38;5;28mself\u001b[39m\u001b[38;5;241m.\u001b[39m__on_error)\n",
      "File \u001b[0;32m~/dev/agents/berkeley-course-2024/hackathon/.pixi/envs/default/lib/python3.12/site-packages/neo4j/_sync/io/_bolt.py:977\u001b[0m, in \u001b[0;36mBolt.fetch_message\u001b[0;34m(self)\u001b[0m\n\u001b[1;32m    973\u001b[0m \u001b[38;5;66;03m# Receive exactly one message\u001b[39;00m\n\u001b[1;32m    974\u001b[0m tag, fields \u001b[38;5;241m=\u001b[39m \u001b[38;5;28mself\u001b[39m\u001b[38;5;241m.\u001b[39minbox\u001b[38;5;241m.\u001b[39mpop(\n\u001b[1;32m    975\u001b[0m     hydration_hooks\u001b[38;5;241m=\u001b[39m\u001b[38;5;28mself\u001b[39m\u001b[38;5;241m.\u001b[39mresponses[\u001b[38;5;241m0\u001b[39m]\u001b[38;5;241m.\u001b[39mhydration_hooks\n\u001b[1;32m    976\u001b[0m )\n\u001b[0;32m--> 977\u001b[0m res \u001b[38;5;241m=\u001b[39m \u001b[38;5;28;43mself\u001b[39;49m\u001b[38;5;241;43m.\u001b[39;49m\u001b[43m_process_message\u001b[49m\u001b[43m(\u001b[49m\u001b[43mtag\u001b[49m\u001b[43m,\u001b[49m\u001b[43m \u001b[49m\u001b[43mfields\u001b[49m\u001b[43m)\u001b[49m\n\u001b[1;32m    978\u001b[0m \u001b[38;5;28mself\u001b[39m\u001b[38;5;241m.\u001b[39midle_since \u001b[38;5;241m=\u001b[39m monotonic()\n\u001b[1;32m    979\u001b[0m \u001b[38;5;28;01mreturn\u001b[39;00m res\n",
      "File \u001b[0;32m~/dev/agents/berkeley-course-2024/hackathon/.pixi/envs/default/lib/python3.12/site-packages/neo4j/_sync/io/_bolt5.py:466\u001b[0m, in \u001b[0;36mBolt5x0._process_message\u001b[0;34m(self, tag, fields)\u001b[0m\n\u001b[1;32m    464\u001b[0m \u001b[38;5;28mself\u001b[39m\u001b[38;5;241m.\u001b[39m_server_state_manager\u001b[38;5;241m.\u001b[39mstate \u001b[38;5;241m=\u001b[39m \u001b[38;5;28mself\u001b[39m\u001b[38;5;241m.\u001b[39mbolt_states\u001b[38;5;241m.\u001b[39mFAILED\n\u001b[1;32m    465\u001b[0m \u001b[38;5;28;01mtry\u001b[39;00m:\n\u001b[0;32m--> 466\u001b[0m     \u001b[43mresponse\u001b[49m\u001b[38;5;241;43m.\u001b[39;49m\u001b[43mon_failure\u001b[49m\u001b[43m(\u001b[49m\u001b[43msummary_metadata\u001b[49m\u001b[43m \u001b[49m\u001b[38;5;129;43;01mor\u001b[39;49;00m\u001b[43m \u001b[49m\u001b[43m{\u001b[49m\u001b[43m}\u001b[49m\u001b[43m)\u001b[49m\n\u001b[1;32m    467\u001b[0m \u001b[38;5;28;01mexcept\u001b[39;00m (ServiceUnavailable, DatabaseUnavailable):\n\u001b[1;32m    468\u001b[0m     \u001b[38;5;28;01mif\u001b[39;00m \u001b[38;5;28mself\u001b[39m\u001b[38;5;241m.\u001b[39mpool:\n",
      "File \u001b[0;32m~/dev/agents/berkeley-course-2024/hackathon/.pixi/envs/default/lib/python3.12/site-packages/neo4j/_sync/io/_common.py:251\u001b[0m, in \u001b[0;36mResponse.on_failure\u001b[0;34m(self, metadata)\u001b[0m\n\u001b[1;32m    249\u001b[0m handler \u001b[38;5;241m=\u001b[39m \u001b[38;5;28mself\u001b[39m\u001b[38;5;241m.\u001b[39mhandlers\u001b[38;5;241m.\u001b[39mget(\u001b[38;5;124m\"\u001b[39m\u001b[38;5;124mon_summary\u001b[39m\u001b[38;5;124m\"\u001b[39m)\n\u001b[1;32m    250\u001b[0m Util\u001b[38;5;241m.\u001b[39mcallback(handler)\n\u001b[0;32m--> 251\u001b[0m \u001b[38;5;28;01mraise\u001b[39;00m Neo4jError\u001b[38;5;241m.\u001b[39mhydrate(\u001b[38;5;241m*\u001b[39m\u001b[38;5;241m*\u001b[39mmetadata)\n",
      "\u001b[0;31mCypherSyntaxError\u001b[0m: {code: Neo.ClientError.Statement.SyntaxError} {message: Invalid input '': expected an expression, '.', ':', 'IS' or '[' (line 4, column 1 (offset: 25))\n\"REMOVE Entity\"\n              ^}"
     ]
    }
   ],
   "source": [
    "query = \"\"\"\n",
    "MATCH (n)\n",
    "DETACH DELETE n\n",
    "\"\"\"\n",
    "\n",
    "result = kg.query(query)\n",
    "print(result)\n",
    "\n",
    "\n",
    "query = \"\"\"\n",
    "MATCH (n)\n",
    "CALL apoc.meta.nodeTypeProperties(n) YIELD propertyName\n",
    "REMOVE n[propertyName]\n",
    "\"\"\"\n",
    "\n",
    "result = kg.query(query)\n",
    "print(result)\n"
   ]
  },
  {
   "cell_type": "code",
   "execution_count": 39,
   "metadata": {
    "vscode": {
     "languageId": "ruby"
    }
   },
   "outputs": [
    {
     "data": {
      "text/plain": [
       "{'bernal jiménez gutiérrez': 0,\n",
       " 'shu.251@osu.edu': 1,\n",
       " 'myasu@cs.stanford.edu': 2,\n",
       " 'mammalian': 3,\n",
       " 'rag': 4,\n",
       " 'michihiro yasunaga': 5,\n",
       " 'hippocampal indexing': 6,\n",
       " 'su.809@osu.edu': 7,\n",
       " 'stanford university': 8,\n",
       " 'mammalian brains': 9,\n",
       " 'retrieval-augmented generation': 10,\n",
       " 'hipporag': 11,\n",
       " 'the ohio state university': 12,\n",
       " 'gu.826@osu.edu': 13,\n",
       " 'yu gu': 14,\n",
       " 'yiheng shu': 15,\n",
       " 'jimenezgutierrez.1@osu.edu': 16,\n",
       " 'yu su': 17}"
      ]
     },
     "execution_count": 39,
     "metadata": {},
     "output_type": "execute_result"
    }
   ],
   "source": [
    "named_entities_dict"
   ]
  },
  {
   "cell_type": "code",
   "execution_count": 38,
   "metadata": {
    "vscode": {
     "languageId": "ruby"
    }
   },
   "outputs": [
    {
     "name": "stderr",
     "output_type": "stream",
     "text": [
      "2024-10-27 14:59:48 R2GWRJJGF9 neo4j.io[41795] ERROR Failed to read from defunct connection ResolvedIPv4Address(('34.28.184.63', 7687)) (ResolvedIPv4Address(('34.28.184.63', 7687)))\n",
      "2024-10-27 14:59:48 R2GWRJJGF9 neo4j.pool[41795] ERROR Unable to retrieve routing information\n",
      "2024-10-27 14:59:48 R2GWRJJGF9 neo4j.pool[41795] WARNING Transaction failed and will be retried in 1.0592167692876193s (Unable to retrieve routing information)\n"
     ]
    }
   ],
   "source": [
    "from typing import List\n",
    "\n",
    "def add_all_entities(kg: Neo4jGraph, named_entities_dict: Dict):\n",
    "\n",
    "    entities = list(named_entities_dict.keys())\n",
    "\n",
    "    all_entities = [{\"name\": entity, \"node_id\": named_entities_dict[entity], \"embedding\": entities_embeddings[named_entities_dict[entity]]} for entity in entities]\n",
    "\n",
    "    query = \"\"\"\n",
    "    UNWIND $all_entities AS ae\n",
    "    MERGE (a:Entity {name: ae.name, node_id: ae.node_id, embedding: ae.embedding})\n",
    "    \"\"\"\n",
    "    kg.query(query, {\"all_entities\": all_entities})\n",
    "\n",
    "\n",
    "\n",
    "add_all_entities(kg, named_entities_dict)\n"
   ]
  },
  {
   "cell_type": "code",
   "execution_count": 41,
   "metadata": {},
   "outputs": [
    {
     "name": "stderr",
     "output_type": "stream",
     "text": [
      "2024-10-27 17:43:13 R2GWRJJGF9 neo4j.io[41795] ERROR Failed to read from defunct connection ResolvedIPv4Address(('34.28.184.63', 7687)) (ResolvedIPv4Address(('34.28.184.63', 7687)))\n",
      "2024-10-27 17:43:13 R2GWRJJGF9 neo4j.pool[41795] ERROR Unable to retrieve routing information\n",
      "2024-10-27 17:43:13 R2GWRJJGF9 neo4j.pool[41795] WARNING Transaction failed and will be retried in 1.1852241800368892s (Unable to retrieve routing information)\n",
      "2024-10-27 17:43:16 R2GWRJJGF9 neo4j.notifications[41795] INFO Received notification from DBMS server: {severity: INFORMATION} {code: Neo.ClientNotification.Statement.CartesianProduct} {category: PERFORMANCE} {title: This query builds a cartesian product between disconnected patterns.} {description: If a part of a query contains multiple disconnected patterns, this will build a cartesian product between all those parts. This may produce a large amount of data and slow down query processing. While occasionally intended, it may often be possible to reformulate the query that avoids the use of this cross product, perhaps by adding a relationship between the different parts or by using OPTIONAL MATCH (identifier is: (b))} {position: line: 3, column: 5, offset: 37} for query: '\\n    UNWIND $triplets AS triplet\\n    MATCH (a:Entity {name: triplet.subject}), (b:Entity {name: triplet.object})\\n    MERGE (a)-[:RELATES_TO {type: triplet.predicate}]->(b)\\n    '\n"
     ]
    }
   ],
   "source": [
    "def add_relateto_relationships(kg: Neo4jGraph, doc_structure):\n",
    "    triplets = []\n",
    "    for chunk in doc_structure:\n",
    "        for triple in chunk[\"triples\"]:\n",
    "            if len(triple) != 3:\n",
    "                continue\n",
    "            subject=triple[0].lower()\n",
    "            predicate=triple[1].replace(\" \", \"_\").upper()\n",
    "            object=triple[2].lower()\n",
    "            triplets.append({\n",
    "                \"subject\": subject, \n",
    "                \"predicate\": predicate, \n",
    "                \"object\": object,\n",
    "                \"passageId_subject\": chunk[\"id\"],\n",
    "                \"passageId_object\": chunk[\"id\"],\n",
    "            })\n",
    "    \n",
    "    query = \"\"\"\n",
    "    UNWIND $triplets AS triplet\n",
    "    MATCH (a:Entity {name: triplet.subject}), (b:Entity {name: triplet.object})\n",
    "    MERGE (a)-[:RELATES_TO {type: triplet.predicate}]->(b)\n",
    "    \"\"\"\n",
    "    kg.query(query, {\"triplets\": triplets})\n",
    "    \n",
    "doc_structure = pickle.loads(open(f\"{document_name.rsplit(\".\", 1)[0]}_document_structure.pkl\", \"rb\").read())\n",
    "\n",
    "add_relateto_relationships(kg, doc_structure)\n"
   ]
  },
  {
   "cell_type": "code",
   "execution_count": 53,
   "metadata": {},
   "outputs": [],
   "source": [
    "def build_vector_index(kg: Neo4jGraph, idx_name = \"entityIdx\", emb_dim=256, sim_func='cosine'):\n",
    "    query = \"\"\"\n",
    "    CREATE VECTOR INDEX $idx_name IF NOT EXISTS\n",
    "    FOR (m:Entity)\n",
    "    ON m.embedding\n",
    "    OPTIONS {indexConfig: {\n",
    "        `vector.dimensions`: $emb_dim,\n",
    "        `vector.similarity_function`: $sim_func\n",
    "    }}\n",
    "    \"\"\"\n",
    "    kg.query(query, {'emb_dim': emb_dim, 'sim_func': sim_func})\n",
    "\n",
    "build_vector_index(kg)"
   ]
  },
  {
   "cell_type": "code",
   "execution_count": 56,
   "metadata": {},
   "outputs": [
    {
     "name": "stderr",
     "output_type": "stream",
     "text": [
      "2024-10-27 18:42:01 R2GWRJJGF9 neo4j.notifications[41795] INFO Received notification from DBMS server: {severity: INFORMATION} {code: Neo.ClientNotification.Statement.CartesianProduct} {category: PERFORMANCE} {title: This query builds a cartesian product between disconnected patterns.} {description: If a part of a query contains multiple disconnected patterns, this will build a cartesian product between all those parts. This may produce a large amount of data and slow down query processing. While occasionally intended, it may often be possible to reformulate the query that avoids the use of this cross product, perhaps by adding a relationship between the different parts or by using OPTIONAL MATCH (identifier is: (b))} {position: line: 3, column: 5, offset: 40} for query: '\\n    UNWIND $similar_entities AS se\\n    MATCH (a:Entity {name: se.entity}), (b:Entity {name: se.similar_entity})\\n    MERGE (a)-[:SIMILAR_TO]->(b)\\n    '\n"
     ]
    }
   ],
   "source": [
    "def add_similar_entities(kg: Neo4jGraph, similar_entities: List):\n",
    "    query = \"\"\"\n",
    "    UNWIND $similar_entities AS se\n",
    "    MATCH (a:Entity {name: se.entity}), (b:Entity {name: se.similar_entity})\n",
    "    MERGE (a)-[:SIMILAR_TO]->(b)\n",
    "    \"\"\"\n",
    "    kg.query(query, {\"similar_entities\": similar_entities})\n",
    "\n",
    "add_similar_entities(kg, similar_entities)"
   ]
  },
  {
   "cell_type": "code",
   "execution_count": 54,
   "metadata": {},
   "outputs": [
    {
     "data": {
      "text/plain": [
       "[{'id': 2,\n",
       "  'name': 'entityIdx',\n",
       "  'state': 'ONLINE',\n",
       "  'populationPercent': 100.0,\n",
       "  'type': 'VECTOR',\n",
       "  'entityType': 'NODE',\n",
       "  'labelsOrTypes': ['Entity'],\n",
       "  'properties': ['embedding'],\n",
       "  'indexProvider': 'vector-2.0',\n",
       "  'owningConstraint': None,\n",
       "  'lastRead': None,\n",
       "  'readCount': 0},\n",
       " {'id': 0,\n",
       "  'name': 'index_343aff4e',\n",
       "  'state': 'ONLINE',\n",
       "  'populationPercent': 100.0,\n",
       "  'type': 'LOOKUP',\n",
       "  'entityType': 'NODE',\n",
       "  'labelsOrTypes': None,\n",
       "  'properties': None,\n",
       "  'indexProvider': 'token-lookup-1.0',\n",
       "  'owningConstraint': None,\n",
       "  'lastRead': neo4j.time.DateTime(2024, 10, 28, 1, 20, 35, 138000000, tzinfo=<UTC>),\n",
       "  'readCount': 773},\n",
       " {'id': 1,\n",
       "  'name': 'index_f7700477',\n",
       "  'state': 'ONLINE',\n",
       "  'populationPercent': 100.0,\n",
       "  'type': 'LOOKUP',\n",
       "  'entityType': 'RELATIONSHIP',\n",
       "  'labelsOrTypes': None,\n",
       "  'properties': None,\n",
       "  'indexProvider': 'token-lookup-1.0',\n",
       "  'owningConstraint': None,\n",
       "  'lastRead': neo4j.time.DateTime(2024, 10, 28, 0, 47, 30, 242000000, tzinfo=<UTC>),\n",
       "  'readCount': 23}]"
      ]
     },
     "execution_count": 54,
     "metadata": {},
     "output_type": "execute_result"
    }
   ],
   "source": [
    "kg.query(\"show indexes\")"
   ]
  },
  {
   "cell_type": "code",
   "execution_count": null,
   "metadata": {},
   "outputs": [],
   "source": []
  }
 ],
 "metadata": {
  "kernelspec": {
   "display_name": "default",
   "language": "python",
   "name": "python3"
  },
  "language_info": {
   "codemirror_mode": {
    "name": "ipython",
    "version": 3
   },
   "file_extension": ".py",
   "mimetype": "text/x-python",
   "name": "python",
   "nbconvert_exporter": "python",
   "pygments_lexer": "ipython3",
   "version": "3.12.7"
  }
 },
 "nbformat": 4,
 "nbformat_minor": 2
}

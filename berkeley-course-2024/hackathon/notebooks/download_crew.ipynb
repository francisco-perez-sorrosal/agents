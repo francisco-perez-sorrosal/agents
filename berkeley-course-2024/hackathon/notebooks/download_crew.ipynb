{
 "cells": [
  {
   "metadata": {
    "collapsed": true
   },
   "cell_type": "code",
   "source": [
    "import logging\n",
    "from typing import Optional\n",
    "\n",
    "from crewai import Agent, Task, Crew\n",
    "from pydantic import BaseModel, Field\n",
    "\n",
    "# Configure logging\n",
    "logging.basicConfig(level=logging.DEBUG)\n",
    "\n",
    "# set the environment variables\n",
    "from dotenv import load_dotenv\n",
    "load_dotenv()\n"
   ],
   "id": "initial_id",
   "outputs": [],
   "execution_count": null
  },
  {
   "metadata": {},
   "cell_type": "code",
   "source": [
    "from hackathon.tools import FileDownloadTool, sha256_filename_generator\n",
    "\n",
    "# Create an instance of the FileDownloadTool class with the SHA-256 function\n",
    "download_tool = FileDownloadTool(filename_generator=sha256_filename_generator)\n",
    "download_tool.run('https://www.w3.org/WAI/ER/tests/xhtml/testfiles/resources/pdf/dummy.pdf', 'dummy.pdf', './downloads')"
   ],
   "id": "a7374ff7da883b3d",
   "outputs": [],
   "execution_count": null
  },
  {
   "metadata": {},
   "cell_type": "code",
   "source": [
    "# Create an agent\n",
    "downloader_agent = Agent(\n",
    "    role='File Downloader',\n",
    "    goal='Download files from given URLs efficiently and safely to the give directory.',\n",
    "    backstory='You are an expert in downloading files from the internet, ensuring the process is smooth and secure.'\n",
    "              'You are provided a URL to download the file from and a directory name to save it.',\n",
    "    verbose=True,\n",
    "    allow_delegation=False,\n",
    "    tools=[download_tool]\n",
    ")\n",
    "\n",
    "# Create a task\n",
    "class FileDownloadDetails(BaseModel):\n",
    "    url: str = Field(..., description=\"The original source URL from where the file was downloaded\")\n",
    "    filepath: Optional[str] = Field(..., description=\"If the download was success, the filepath where the file was saved\")\n",
    "    status: str = Field(..., description=\"Status of the download operation, either Success or Failure\")\n",
    "\n",
    "download_task = Task(\n",
    "    description=\"Download a file from the URLs: '{urls}'. If an output directory is provided {directory}, save the file there.\",\n",
    "    agent=downloader_agent,\n",
    "    #output_file='{filename}',\n",
    "    output_json=FileDownloadDetails,\n",
    "    expected_output='The file download operation details including source URL and filepath of the saved file will be provided in JSON.'\n",
    "                    'The status will be either Success or Failure.'\n",
    "                    'If the download fails, the filepath will be None and the status will be Failure.'\n",
    "                    'Use the output details from the tools to complete the task.',\n",
    ")\n",
    "\n",
    "# Create the crew\n",
    "file_download_crew = Crew(\n",
    "    agents=[downloader_agent],\n",
    "    tasks=[download_task],\n",
    "    verbose=True\n",
    ")\n"
   ],
   "id": "9d22f135ca355011",
   "outputs": [],
   "execution_count": null
  },
  {
   "metadata": {},
   "cell_type": "code",
   "source": [
    "# Run the crew\n",
    "result = file_download_crew.kickoff(\n",
    "    inputs={\n",
    "        'urls': ['https://www.w3.org/WAI/ER/tests/xhtml/testfiles/resources/pdf/dummy.pdf', 'https://www.w3.org/WAI/ER/tests/xhtml/testfiles/resources/pdf/dummy1.pdf', 'https://arxiv.org/pdf/2405.14831' ],\n",
    "        'directory': './downloads',\n",
    "    }\n",
    ")\n",
    "\n",
    "print(result)\n"
   ],
   "id": "334f2e452ce05e9e",
   "outputs": [],
   "execution_count": null
  },
  {
   "metadata": {},
   "cell_type": "code",
   "source": "",
   "id": "bba5ddac38373594",
   "outputs": [],
   "execution_count": null
  }
 ],
 "metadata": {
  "kernelspec": {
   "display_name": "Python 3",
   "language": "python",
   "name": "python3"
  },
  "language_info": {
   "codemirror_mode": {
    "name": "ipython",
    "version": 2
   },
   "file_extension": ".py",
   "mimetype": "text/x-python",
   "name": "python",
   "nbconvert_exporter": "python",
   "pygments_lexer": "ipython2",
   "version": "2.7.6"
  }
 },
 "nbformat": 4,
 "nbformat_minor": 5
}

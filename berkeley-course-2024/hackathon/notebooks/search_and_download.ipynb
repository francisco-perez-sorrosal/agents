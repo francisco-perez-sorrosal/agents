{
 "cells": [
  {
   "metadata": {},
   "cell_type": "code",
   "source": [
    "import logging\n",
    "from typing import Optional\n",
    "\n",
    "from crewai import Agent, Task, Crew\n",
    "from crewai_tools import (\n",
    "    SerperDevTool,\n",
    "    ScrapeWebsiteTool,\n",
    ")\n",
    "from pydantic import BaseModel, Field\n",
    "\n",
    "# Configure logging\n",
    "logging.basicConfig(level=logging.DEBUG)\n",
    "\n",
    "# set the environment variables\n",
    "from dotenv import load_dotenv\n",
    "# NOTE: need to setup a SERPER_API_KEY in the .env file\n",
    "# https://serper.dev/api-key\n",
    "load_dotenv()"
   ],
   "id": "d4f9a8f01db5d139",
   "outputs": [],
   "execution_count": null
  },
  {
   "metadata": {
    "collapsed": true
   },
   "cell_type": "code",
   "source": [
    "search_tool = SerperDevTool()\n",
    "scrape_tool = ScrapeWebsiteTool()\n",
    "\n",
    "researcher_agent = Agent(\n",
    "    role=\"Article researcher\",\n",
    "    goal=\"Search in arxiv.org for a concrete article who's name or description is '{article_description}' and find the URL of the PDF file of the article.\",\n",
    "    backstory=\"You are a researcher who is responsible for finding articles from arxiv.org on a specific topic given a name or description.\"\n",
    "              \"The article name or description is: {article_description}.\"\n",
    "              \"You search the web arxiv.org to find the information about the article.\"\n",
    "              \"Find a url from arxiv.org to the article in PDF format and give it as output.\"\n",
    "              \"If you find several articles, choose the one that is most relevant to the article name or description.\"\n",
    "              \"If you cannot find the article, say you didn't found any related article.\",\n",
    "    allow_delegation=False,\n",
    "    verbose=True,\n",
    "    tools=[search_tool, scrape_tool]\n",
    ")\n",
    "\n",
    "class ArticleSearchOutput(BaseModel):\n",
    "    url: str = Field(..., description=\"URL of the PDF file of the article to download\")\n",
    "\n",
    "researcher_task = Task(\n",
    "    description=\"Find in arxiv.org the URL of the PDF file of an article who's name or the description is provided here '{article_description}'\",\n",
    "    expected_output=\"A dictionary with keys 'url' for a URL of the PDF file of the article to download.\",\n",
    "    output_json=ArticleSearchOutput,\n",
    "    agent=researcher_agent,\n",
    ")"
   ],
   "id": "initial_id",
   "outputs": [],
   "execution_count": null
  },
  {
   "metadata": {},
   "cell_type": "code",
   "source": [
    "# search_crew = Crew(\n",
    "#     agents=[researcher_agent],\n",
    "#     tasks=[researcher_task],\n",
    "#     verbose=True,\n",
    "# )\n",
    "# result = search_crew.kickoff(inputs={'article_description': 'HippoRAG inspired long-term memory language models'})\n",
    "# print(result)"
   ],
   "id": "92cf71add1a93d67",
   "outputs": [],
   "execution_count": null
  },
  {
   "metadata": {},
   "cell_type": "code",
   "source": [
    "from hackathon.tools import FileDownloadTool, sha256_filename_generator\n",
    "\n",
    "# Create an instance of the FileDownloadTool class with the SHA-256 function\n",
    "download_tool = FileDownloadTool(filename_generator=sha256_filename_generator)\n",
    "\n",
    "# Create downloader agent\n",
    "downloader_agent = Agent(\n",
    "    role='File Downloader',\n",
    "    goal='Download files from given URLs efficiently and safely to the give directory.',\n",
    "    backstory='You are an expert in downloading files from the internet, ensuring the process is smooth and secure.'\n",
    "              'You are provided a URL to download the file from and a directory name to save it.',\n",
    "    verbose=True,\n",
    "    allow_delegation=False,\n",
    "    tools=[download_tool]\n",
    ")\n",
    "\n",
    "# Create a task\n",
    "class FileDownloadDetails(BaseModel):\n",
    "    url: str = Field(..., description=\"The original source URL from where the file was downloaded\")\n",
    "    filepath: Optional[str] = Field(..., description=\"If the download was success, the filepath where the file was saved\")\n",
    "    status: str = Field(..., description=\"Status of the download operation, either Success or Failure\")\n",
    "\n",
    "download_task = Task(\n",
    "    description=\"Download a file from the URLs that are given. If an output directory is provided {directory}, save the file there.\",\n",
    "    agent=downloader_agent,\n",
    "    #output_file='{filename}',\n",
    "    output_json=FileDownloadDetails,\n",
    "    expected_output='The file download operation details including source URL and filepath of the saved file will be provided in JSON.'\n",
    "                    'The status will be either Success or Failure.'\n",
    "                    'If the download fails, the filepath will be None and the status will be Failure.'\n",
    "                    'Use the output details from the tools to complete the task.',\n",
    ")\n"
   ],
   "id": "e9f356e162b8d43e",
   "outputs": [],
   "execution_count": null
  },
  {
   "metadata": {},
   "cell_type": "code",
   "source": [
    "# coordinator = Agent(\n",
    "#     role=\"Coordinator\",\n",
    "#     goal=\"Coordinate the actions of the Article Researcher and FileDownloader to search in arxiv.org for a concrete article\"\n",
    "#          \" who's name or description is '{article_description}' and download it in PDF format to a directory if it is provided.\",\n",
    "#     backstory=\"You coordinate the action of other agents to look and download the article in PDF format.\"\n",
    "#               \"The article name or description is: {article_description}.\"\n",
    "#               \"You search the web arxiv.org to find the information about the article.\"\n",
    "#               \"Search for a link in to the article in PDF format.\"\n",
    "#               \"If you find several articles, choose the one that is most relevant to the topic.\"\n",
    "#               \"Download the article in PDF format and save it to the given directory if provided.\"\n",
    "#               \"If you cannot find the article, say you didn't found any article related\",\n",
    "#     allow_delegation=True,\n",
    "#     verbose=True,\n",
    "# )\n",
    "#\n",
    "# coordinator_task = Task(\n",
    "#     description=\"Coordinate the actions of Article Researcher and File downloader to search in arxiv.org for a articles and download them in PDF format.\",\n",
    "#     agent=coordinator,\n",
    "#     #output_file='{filename}',\n",
    "#     output_json=FileDownloadDetails,\n",
    "#     expected_output='The file download operation details including source URL and filepath of the saved file will be provided in JSON.'\n",
    "#                     'The status will be either Success or Failure.'\n",
    "#                     'If the download fails, the filepath will be None and the status will be Failure.'\n",
    "#                     'Use the output details from the tools to complete the task.',\n",
    "# )\n",
    "#\n"
   ],
   "id": "a1849462ce4b5b3d",
   "outputs": [],
   "execution_count": null
  },
  {
   "metadata": {},
   "cell_type": "code",
   "source": [
    "search_and_download_crew = Crew(\n",
    "    agents=[researcher_agent, downloader_agent],\n",
    "    tasks=[researcher_task, download_task],\n",
    "    verbose=True,\n",
    ")\n",
    "\n",
    "result = search_and_download_crew.kickoff(inputs={'article_description': 'HippoRAG inspired long-term memory language models', 'directory': './downloads'})\n",
    "print(result)"
   ],
   "id": "4b0d176311d58200",
   "outputs": [],
   "execution_count": null
  },
  {
   "metadata": {},
   "cell_type": "code",
   "source": "",
   "id": "2ff47a8177c02c3b",
   "outputs": [],
   "execution_count": null
  }
 ],
 "metadata": {
  "kernelspec": {
   "display_name": "Python 3",
   "language": "python",
   "name": "python3"
  },
  "language_info": {
   "codemirror_mode": {
    "name": "ipython",
    "version": 2
   },
   "file_extension": ".py",
   "mimetype": "text/x-python",
   "name": "python",
   "nbconvert_exporter": "python",
   "pygments_lexer": "ipython2",
   "version": "2.7.6"
  }
 },
 "nbformat": 4,
 "nbformat_minor": 5
}

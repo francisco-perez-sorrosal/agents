{
 "cells": [
  {
   "cell_type": "markdown",
   "metadata": {},
   "source": [
    "# Exploring User Identification!"
   ]
  },
  {
   "cell_type": "code",
   "execution_count": null,
   "metadata": {},
   "outputs": [],
   "source": [
    "import asyncio\n",
    "import nest_asyncio  # For Jupyter Notebook\n",
    "\n",
    "\n",
    "import json\n",
    "import pickle\n",
    "\n",
    "import numpy as np\n",
    "\n",
    "\n",
    "from typing import Any, Dict, List, Literal, Optional, Type\n",
    "from crewai.flow.flow import Flow, listen, start, router\n",
    "\n",
    "from llm_foundation import logger\n",
    "from llm_foundation.agent_types import Persona, Role\n",
    "\n",
    "from crewai import Agent, Task, Crew, Process\n",
    "from crewai.crews import CrewOutput\n",
    "from crewai_tools import BaseTool\n",
    "from hackathon.index import generate_embeddings, create_index, search_index, build_similar_entities\n",
    "from hackathon.input_output_types import NamedEntities\n",
    "from hackathon.retrieval_neo4j import chunk_ranker, retrieve_context, retrieve_similar_entities, pagerank\n",
    "from hackathon.graph_neo4j import add_entities, add_relates_to_relationships, build_vector_index, add_similar_entities, clean_db, Neo4jClientFactory\n",
    "from hackathon.tools import filter_named_entities, create_document_deduped_entities_dict, create_matrix_entity_ref_count\n",
    "from hackathon.utils import build_document_structure, save_document_structure\n",
    "from langchain.agents import load_tools\n",
    "from langchain_core.prompts import ChatPromptTemplate\n",
    "from langchain_openai import ChatOpenAI\n",
    "from langchain.output_parsers.json import SimpleJsonOutputParser\n",
    "from pydantic import BaseModel\n",
    "from rich import print\n",
    "from rich.pretty import pprint\n",
    "\n",
    "from hackathon.users import User, UserIdentityOutput, UserIdentityValidationState, UserIdentificationFlow\n",
    "from hackathon.graph_graphiti import GraphitiSearchTool\n",
    "\n",
    "from dotenv import load_dotenv\n",
    "\n",
    "load_dotenv()\n",
    "\n",
    "# Required for Jupyter Notebook\n",
    "nest_asyncio.apply()\n",
    "\n",
    "# Nice Video\n",
    "# https://www.youtube.com/watch?v=8PtGcNE01yo#:~:text=so%20now%20it's%20time%20for%20us%20to,are%20nothing%20more%20than%20a%20new%20decorator.&text=once%20we've%20randomly%20generated%20that%20value%20we're,start%20method%20finishes%20we're%20going%20to%20trigger."
   ]
  },
  {
   "cell_type": "code",
   "execution_count": null,
   "metadata": {},
   "outputs": [],
   "source": [
    "entity_master = Persona.from_yaml_file(\"PersonasCrewAI.yaml\")\n",
    "\n",
    "profiler_role: Role = entity_master.get_role(\"profiler\")\n",
    "graphiti_finder_role: Role = entity_master.get_role(\"graphiti_finder\")\n",
    "\n",
    "pprint(profiler_role)\n",
    "pprint(graphiti_finder_role)\n",
    "\n",
    "profiler: Agent = profiler_role.to_crewai_agent(verbose=True, allow_delegation=True,) #, tools=human_tools)\n",
    "graphiti_finder: Agent = graphiti_finder_role.to_crewai_agent(verbose=True, allow_delegation=True, tools=[GraphitiSearchTool()])\n"
   ]
  },
  {
   "cell_type": "code",
   "execution_count": null,
   "metadata": {},
   "outputs": [],
   "source": [
    "user_identity = UserIdentityValidationState()\n",
    "user_identity.model_dump()"
   ]
  },
  {
   "cell_type": "markdown",
   "metadata": {},
   "source": [
    "# Identify User Crew\n",
    "\n",
    "Generates a query if we don't have user name and surname"
   ]
  },
  {
   "cell_type": "code",
   "execution_count": null,
   "metadata": {},
   "outputs": [],
   "source": [
    "flow = UserIdentificationFlow(\"PersonasCrewAI.yaml\")\n"
   ]
  },
  {
   "cell_type": "code",
   "execution_count": null,
   "metadata": {},
   "outputs": [],
   "source": [
    "\n",
    "initial_state = UserIdentityValidationState(user_info=[], name=\"\", last_name=\"\")\n",
    "logger.info(\"^^^^^^^^^^^^^^^^^^^^^^^^^^^^ Calling Flow ^^^^^^^^^^^^^^^^^^^^^^^^^^^^^^^^^^^^\")\n",
    "flow.kickoff(inputs=initial_state.model_dump())\n",
    "logger.info(\".............................. Flow Result ......................................\")\n",
    "next_state = flow.state\n",
    "logger.info(next_state)\n",
    "logger.info(\".................................................................................\")\n"
   ]
  },
  {
   "cell_type": "code",
   "execution_count": null,
   "metadata": {},
   "outputs": [],
   "source": [
    "next_state.user_info.append(\"Hey! I'm Francisco\")\n",
    "logger.info(\"^^^^^^^^^^^^^^^^^^^^^^^^^^^^ Calling Flow ^^^^^^^^^^^^^^^^^^^^^^^^^^^^^^^^^^^^\")\n",
    "flow.kickoff(inputs=next_state.model_dump())\n",
    "logger.info(\".............................. Flow Result ......................................\")\n",
    "next_state = flow.state\n",
    "logger.info(next_state)\n",
    "logger.info(\".................................................................................\")\n"
   ]
  },
  {
   "cell_type": "code",
   "execution_count": null,
   "metadata": {},
   "outputs": [],
   "source": [
    "next_state.user_info.append(\"Nah, why I should tell you?\")\n",
    "logger.info(\"^^^^^^^^^^^^^^^^^^^^^^^^^^^^ Calling Flow ^^^^^^^^^^^^^^^^^^^^^^^^^^^^^^^^^^^^\")\n",
    "flow.kickoff(inputs=next_state.model_dump())\n",
    "logger.info(\".............................. Flow Result ......................................\")\n",
    "next_state = flow.state\n",
    "logger.info(next_state)\n",
    "logger.info(\".................................................................................\")\n"
   ]
  },
  {
   "cell_type": "code",
   "execution_count": null,
   "metadata": {},
   "outputs": [],
   "source": [
    "next_state.user_info.append(\"OOOOOk, I'm Perez-Sorrosal\")\n",
    "logger.info(\"^^^^^^^^^^^^^^^^^^^^^^^^^^^^ Calling Flow ^^^^^^^^^^^^^^^^^^^^^^^^^^^^^^^^^^^^\")\n",
    "flow.kickoff(inputs=next_state.model_dump())\n",
    "logger.info(\".............................. Flow Result ......................................\")\n",
    "next_state = flow.state\n",
    "logger.info(next_state)\n",
    "logger.info(\".................................................................................\")"
   ]
  },
  {
   "cell_type": "code",
   "execution_count": null,
   "metadata": {},
   "outputs": [],
   "source": [
    "next_state"
   ]
  },
  {
   "cell_type": "code",
   "execution_count": null,
   "metadata": {},
   "outputs": [],
   "source": [
    "logger.info(\"^^^^^^^^^^^^^^^^^^^^^^^^^^^^ Calling Flow ^^^^^^^^^^^^^^^^^^^^^^^^^^^^^^^^^^^^\")\n",
    "flow.kickoff(inputs=next_state.model_dump())\n",
    "logger.info(\".............................. Flow Result ......................................\")\n",
    "next_state = flow.state\n",
    "logger.info(next_state)\n",
    "logger.info(\".................................................................................\")"
   ]
  },
  {
   "cell_type": "code",
   "execution_count": null,
   "metadata": {},
   "outputs": [],
   "source": [
    "\n",
    "# MATCH (m:Entity)\n",
    "# CALL db.index.fulltext.queryNodes('node_name_and_summary', \"Fran \")\n",
    "# YIELD node AS entity, score\n",
    "# RETURN entity.name AS name, entity.name_embedding as embedding, score\n",
    "\n",
    "            # def search_vector2(tx, query_embedding):\n",
    "            #     cypher_query = f\"\"\"\n",
    "            #     CALL db.index.vector.queryNodes('name_entity_index', 3, {query_embedding}) YIELD node, score\n",
    "            #     RETURN node.node_id as id, node.name as name, score\n",
    "            #     \"\"\"\n",
    "            #     return tx.run(cypher_query).data()\n",
    "\n",
    "\n",
    "from hackathon.utils import Neo4jClientFactory\n",
    "from hackathon.retrieval_neo4j import retrieve_similar_entities\n",
    "\n",
    "identity_to_check = \"Francisco Perez-Sorrosal\" #f\"{next_state.name} {next_state.surname}\"\n",
    "\n",
    "\n",
    "neo4j_factory = Neo4jClientFactory()\n",
    "\n",
    "related_nodes = retrieve_similar_entities(neo4j_factory, [identity_to_check], emb_dim=256)\n",
    "\n",
    "print(related_nodes)\n",
    "\n",
    "\n",
    "for node in related_nodes:\n",
    "    logger.info(node)\n"
   ]
  },
  {
   "cell_type": "markdown",
   "metadata": {},
   "source": [
    "# User creation in DB"
   ]
  },
  {
   "cell_type": "code",
   "execution_count": null,
   "metadata": {},
   "outputs": [],
   "source": [
    "# Fake state\n",
    "next_state = UserIdentityValidationState(name=\"Fran\", last_name=\"Perez-Sorrosal\", user_identified=True, question=\"\")\n",
    "\n",
    "print(next_state.get_extracted_user())\n",
    "\n"
   ]
  },
  {
   "cell_type": "code",
   "execution_count": null,
   "metadata": {},
   "outputs": [],
   "source": [
    "from hackathon.tools import graphdb_retrieval_tool, graphdb_add_user_tool\n",
    "\n",
    "user_db_persona = Persona.from_yaml_file(\"UserDBCrewAI.yaml\")\n",
    "\n",
    "entity_retriever_role: Role = user_db_persona.get_role(\"entity_retriever\")\n",
    "user_manager_role: Role = user_db_persona.get_role(\"user_manager\")\n",
    "\n",
    "pprint(entity_retriever_role)\n",
    "pprint(user_manager_role)\n",
    "\n",
    "\n",
    "entity_retriever: Agent = entity_retriever_role.to_crewai_agent(verbose=True, allow_delegation=True, tools=[graphdb_retrieval_tool] ) #, tools=human_tools)\n",
    "user_manager: Agent = user_manager_role.to_crewai_agent(verbose=True, allow_delegation=True, tools=[graphdb_add_user_tool])\n",
    "\n",
    "\n",
    "retrieve_entity = Task(\n",
    "    description=entity_retriever_role.tasks[0].description,\n",
    "    expected_output=entity_retriever_role.tasks[0].expected_output,\n",
    "    agent=entity_retriever,\n",
    ")\n",
    "\n",
    "add_user = Task(\n",
    "    description=user_manager_role.tasks[0].description,\n",
    "    expected_output=user_manager_role.tasks[0].expected_output,\n",
    "    agent=user_manager,\n",
    ")\n",
    "\n",
    "\n",
    "manager = Agent(\n",
    "    role=\"User Creator\",\n",
    "    goal=\"Efficiently manage the crew and ensure high-quality task completion\",\n",
    "    backstory=\"You're an database manager, skilled in overseeing complex task workflows to add users to a database and guiding your teams to success. Your role is to coordinate the efforts of the crew members, ensuring that each task is completed on time and to the highest standard.\",\n",
    "    allow_delegation=True,\n",
    ")\n",
    "\n",
    "profiler_crew = Crew(\n",
    "    agents=[entity_retriever, user_manager],\n",
    "    tasks=[retrieve_entity, add_user],\n",
    "    manager_agent=manager,\n",
    "    planning=True,\n",
    "    verbose=True,\n",
    "    memory=True,\n",
    "    process=Process.sequential,\n",
    "    cache=False,\n",
    ")\n",
    "\n",
    "user_inputs = {\n",
    "    \"entity_context\": str(next_state.get_extracted_user()),  # Input the full name as a string\n",
    "    \"user_context\": next_state.user_context(),  # Input the raw Pydantic object\n",
    "}\n",
    "crew_output: CrewOutput = profiler_crew.kickoff(inputs=user_inputs)\n",
    "\n",
    "logger.info(\"^^^^^^^^^^^^^^^^^^^^^^^^^^^^ Calling Flow ^^^^^^^^^^^^^^^^^^^^^^^^^^^^^^^^^^^^\")\n",
    "logger.info(crew_output.raw)\n"
   ]
  },
  {
   "cell_type": "code",
   "execution_count": null,
   "metadata": {},
   "outputs": [],
   "source": []
  }
 ],
 "metadata": {
  "kernelspec": {
   "display_name": "default",
   "language": "python",
   "name": "python3"
  },
  "language_info": {
   "codemirror_mode": {
    "name": "ipython",
    "version": 3
   },
   "file_extension": ".py",
   "mimetype": "text/x-python",
   "name": "python",
   "nbconvert_exporter": "python",
   "pygments_lexer": "ipython3",
   "version": "3.12.7"
  }
 },
 "nbformat": 4,
 "nbformat_minor": 2
}
